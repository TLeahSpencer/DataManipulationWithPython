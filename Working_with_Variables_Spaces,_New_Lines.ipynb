{
  "nbformat": 4,
  "nbformat_minor": 0,
  "metadata": {
    "colab": {
      "name": "Working with Variables - Spaces, New Lines.ipynb",
      "provenance": [],
      "authorship_tag": "ABX9TyOKT5OZYDENtDpHnYCBuOD7",
      "include_colab_link": true
    },
    "kernelspec": {
      "name": "python3",
      "display_name": "Python 3"
    }
  },
  "cells": [
    {
      "cell_type": "markdown",
      "metadata": {
        "id": "view-in-github",
        "colab_type": "text"
      },
      "source": [
        "<a href=\"https://colab.research.google.com/github/TLeahSpencer/DataManipulationWithPython/blob/master/Working_with_Variables_Spaces%2C_New_Lines.ipynb\" target=\"_parent\"><img src=\"https://colab.research.google.com/assets/colab-badge.svg\" alt=\"Open In Colab\"/></a>"
      ]
    },
    {
      "cell_type": "code",
      "metadata": {
        "id": "7JyqivYzz6S_",
        "colab_type": "code",
        "colab": {}
      },
      "source": [
        "import numpy as np\n",
        "import pandas as pd"
      ],
      "execution_count": 1,
      "outputs": []
    },
    {
      "cell_type": "code",
      "metadata": {
        "id": "KEisLnLZ0l5h",
        "colab_type": "code",
        "colab": {}
      },
      "source": [
        "#Lets create a dataframe and a dictionary\n",
        "#We know we are creating a dictionary because we see {Key : Values}\n",
        "DATASAMPLES1 = pd.DataFrame({'Favorite Colors': ['Blue','green','yellow','orange'], \n",
        "                             'Favorite Hats': ['Puma','Converse','Lacoste','Hollister']},\n",
        "                            index=[0,1,2,3]) #Organize our table"
      ],
      "execution_count": 4,
      "outputs": []
    },
    {
      "cell_type": "code",
      "metadata": {
        "id": "l9IXO-Re2tja",
        "colab_type": "code",
        "colab": {
          "base_uri": "https://localhost:8080/",
          "height": 172
        },
        "outputId": "57ff5555-fbb9-4ec1-d3fd-e4657ea59458"
      },
      "source": [
        "DATASAMPLES1"
      ],
      "execution_count": 5,
      "outputs": [
        {
          "output_type": "execute_result",
          "data": {
            "text/html": [
              "<div>\n",
              "<style scoped>\n",
              "    .dataframe tbody tr th:only-of-type {\n",
              "        vertical-align: middle;\n",
              "    }\n",
              "\n",
              "    .dataframe tbody tr th {\n",
              "        vertical-align: top;\n",
              "    }\n",
              "\n",
              "    .dataframe thead th {\n",
              "        text-align: right;\n",
              "    }\n",
              "</style>\n",
              "<table border=\"1\" class=\"dataframe\">\n",
              "  <thead>\n",
              "    <tr style=\"text-align: right;\">\n",
              "      <th></th>\n",
              "      <th>Favorite Colors</th>\n",
              "      <th>Favorite Hats</th>\n",
              "    </tr>\n",
              "  </thead>\n",
              "  <tbody>\n",
              "    <tr>\n",
              "      <th>0</th>\n",
              "      <td>Blue</td>\n",
              "      <td>Puma</td>\n",
              "    </tr>\n",
              "    <tr>\n",
              "      <th>1</th>\n",
              "      <td>green</td>\n",
              "      <td>Converse</td>\n",
              "    </tr>\n",
              "    <tr>\n",
              "      <th>2</th>\n",
              "      <td>yellow</td>\n",
              "      <td>Lacoste</td>\n",
              "    </tr>\n",
              "    <tr>\n",
              "      <th>3</th>\n",
              "      <td>orange</td>\n",
              "      <td>Hollister</td>\n",
              "    </tr>\n",
              "  </tbody>\n",
              "</table>\n",
              "</div>"
            ],
            "text/plain": [
              "  Favorite Colors Favorite Hats\n",
              "0            Blue          Puma\n",
              "1           green      Converse\n",
              "2          yellow       Lacoste\n",
              "3          orange     Hollister"
            ]
          },
          "metadata": {
            "tags": []
          },
          "execution_count": 5
        }
      ]
    },
    {
      "cell_type": "code",
      "metadata": {
        "id": "c6k6tdR52z2m",
        "colab_type": "code",
        "colab": {}
      },
      "source": [
        "DATASAMPLES2 = pd.DataFrame({'Favorite Show': ['Billions', 'Startup', 'Curb your Enthusiasm'], 'Favorite Movies': ['Pans Labyrinth','I Walk the Line','Stardust']}, index=[0,1,2])"
      ],
      "execution_count": 7,
      "outputs": []
    },
    {
      "cell_type": "code",
      "metadata": {
        "id": "l5a4iwxz4puZ",
        "colab_type": "code",
        "colab": {
          "base_uri": "https://localhost:8080/",
          "height": 141
        },
        "outputId": "0efdd4a6-896e-423e-c4d1-aea26cf8bc7b"
      },
      "source": [
        "DATASAMPLES2"
      ],
      "execution_count": 8,
      "outputs": [
        {
          "output_type": "execute_result",
          "data": {
            "text/html": [
              "<div>\n",
              "<style scoped>\n",
              "    .dataframe tbody tr th:only-of-type {\n",
              "        vertical-align: middle;\n",
              "    }\n",
              "\n",
              "    .dataframe tbody tr th {\n",
              "        vertical-align: top;\n",
              "    }\n",
              "\n",
              "    .dataframe thead th {\n",
              "        text-align: right;\n",
              "    }\n",
              "</style>\n",
              "<table border=\"1\" class=\"dataframe\">\n",
              "  <thead>\n",
              "    <tr style=\"text-align: right;\">\n",
              "      <th></th>\n",
              "      <th>Favorite Show</th>\n",
              "      <th>Favorite Movies</th>\n",
              "    </tr>\n",
              "  </thead>\n",
              "  <tbody>\n",
              "    <tr>\n",
              "      <th>0</th>\n",
              "      <td>Billions</td>\n",
              "      <td>Pans Labyrinth</td>\n",
              "    </tr>\n",
              "    <tr>\n",
              "      <th>1</th>\n",
              "      <td>Startup</td>\n",
              "      <td>I Walk the Line</td>\n",
              "    </tr>\n",
              "    <tr>\n",
              "      <th>2</th>\n",
              "      <td>Curb your Enthusiasm</td>\n",
              "      <td>Stardust</td>\n",
              "    </tr>\n",
              "  </tbody>\n",
              "</table>\n",
              "</div>"
            ],
            "text/plain": [
              "          Favorite Show  Favorite Movies\n",
              "0              Billions   Pans Labyrinth\n",
              "1               Startup  I Walk the Line\n",
              "2  Curb your Enthusiasm         Stardust"
            ]
          },
          "metadata": {
            "tags": []
          },
          "execution_count": 8
        }
      ]
    },
    {
      "cell_type": "code",
      "metadata": {
        "id": "jA6wqQ8e4wj0",
        "colab_type": "code",
        "colab": {}
      },
      "source": [
        "#Lets combine those data samples into a list inside a new variable\n",
        "DATASAMPLES = [DATASAMPLES1, DATASAMPLES2]"
      ],
      "execution_count": 10,
      "outputs": []
    },
    {
      "cell_type": "code",
      "metadata": {
        "id": "mFGPaUwb5S3V",
        "colab_type": "code",
        "colab": {
          "base_uri": "https://localhost:8080/",
          "height": 158
        },
        "outputId": "d1be7b86-53a1-4f2a-f5fd-f64425f76de7"
      },
      "source": [
        "DATASAMPLES #This prints both sets of DATASAMPLES"
      ],
      "execution_count": 11,
      "outputs": [
        {
          "output_type": "execute_result",
          "data": {
            "text/plain": [
              "[  Favorite Colors Favorite Hats\n",
              " 0            Blue          Puma\n",
              " 1           green      Converse\n",
              " 2          yellow       Lacoste\n",
              " 3          orange     Hollister,           Favorite Show  Favorite Movies\n",
              " 0              Billions   Pans Labyrinth\n",
              " 1               Startup  I Walk the Line\n",
              " 2  Curb your Enthusiasm         Stardust]"
            ]
          },
          "metadata": {
            "tags": []
          },
          "execution_count": 11
        }
      ]
    },
    {
      "cell_type": "code",
      "metadata": {
        "id": "LG-_PTg45aNJ",
        "colab_type": "code",
        "colab": {
          "base_uri": "https://localhost:8080/",
          "height": 172
        },
        "outputId": "59d608a9-7b38-494a-f8ad-c4b2aee122ee"
      },
      "source": [
        "DATASAMPLES1 #This lists the contents with DATASAMPLES1 variable"
      ],
      "execution_count": 12,
      "outputs": [
        {
          "output_type": "execute_result",
          "data": {
            "text/html": [
              "<div>\n",
              "<style scoped>\n",
              "    .dataframe tbody tr th:only-of-type {\n",
              "        vertical-align: middle;\n",
              "    }\n",
              "\n",
              "    .dataframe tbody tr th {\n",
              "        vertical-align: top;\n",
              "    }\n",
              "\n",
              "    .dataframe thead th {\n",
              "        text-align: right;\n",
              "    }\n",
              "</style>\n",
              "<table border=\"1\" class=\"dataframe\">\n",
              "  <thead>\n",
              "    <tr style=\"text-align: right;\">\n",
              "      <th></th>\n",
              "      <th>Favorite Colors</th>\n",
              "      <th>Favorite Hats</th>\n",
              "    </tr>\n",
              "  </thead>\n",
              "  <tbody>\n",
              "    <tr>\n",
              "      <th>0</th>\n",
              "      <td>Blue</td>\n",
              "      <td>Puma</td>\n",
              "    </tr>\n",
              "    <tr>\n",
              "      <th>1</th>\n",
              "      <td>green</td>\n",
              "      <td>Converse</td>\n",
              "    </tr>\n",
              "    <tr>\n",
              "      <th>2</th>\n",
              "      <td>yellow</td>\n",
              "      <td>Lacoste</td>\n",
              "    </tr>\n",
              "    <tr>\n",
              "      <th>3</th>\n",
              "      <td>orange</td>\n",
              "      <td>Hollister</td>\n",
              "    </tr>\n",
              "  </tbody>\n",
              "</table>\n",
              "</div>"
            ],
            "text/plain": [
              "  Favorite Colors Favorite Hats\n",
              "0            Blue          Puma\n",
              "1           green      Converse\n",
              "2          yellow       Lacoste\n",
              "3          orange     Hollister"
            ]
          },
          "metadata": {
            "tags": []
          },
          "execution_count": 12
        }
      ]
    },
    {
      "cell_type": "code",
      "metadata": {
        "id": "U-fBoJ1g6Cnc",
        "colab_type": "code",
        "colab": {}
      },
      "source": [
        "#Now lets combine these data sets into one table\n",
        "TOTALDATA = pd.concat(DATASAMPLES)"
      ],
      "execution_count": 13,
      "outputs": []
    },
    {
      "cell_type": "code",
      "metadata": {
        "id": "V9uMJNb96WXy",
        "colab_type": "code",
        "colab": {
          "base_uri": "https://localhost:8080/",
          "height": 265
        },
        "outputId": "4b7c5b13-e301-4b6e-8e6f-017317a5c318"
      },
      "source": [
        "TOTALDATA"
      ],
      "execution_count": 14,
      "outputs": [
        {
          "output_type": "execute_result",
          "data": {
            "text/html": [
              "<div>\n",
              "<style scoped>\n",
              "    .dataframe tbody tr th:only-of-type {\n",
              "        vertical-align: middle;\n",
              "    }\n",
              "\n",
              "    .dataframe tbody tr th {\n",
              "        vertical-align: top;\n",
              "    }\n",
              "\n",
              "    .dataframe thead th {\n",
              "        text-align: right;\n",
              "    }\n",
              "</style>\n",
              "<table border=\"1\" class=\"dataframe\">\n",
              "  <thead>\n",
              "    <tr style=\"text-align: right;\">\n",
              "      <th></th>\n",
              "      <th>Favorite Colors</th>\n",
              "      <th>Favorite Hats</th>\n",
              "      <th>Favorite Show</th>\n",
              "      <th>Favorite Movies</th>\n",
              "    </tr>\n",
              "  </thead>\n",
              "  <tbody>\n",
              "    <tr>\n",
              "      <th>0</th>\n",
              "      <td>Blue</td>\n",
              "      <td>Puma</td>\n",
              "      <td>NaN</td>\n",
              "      <td>NaN</td>\n",
              "    </tr>\n",
              "    <tr>\n",
              "      <th>1</th>\n",
              "      <td>green</td>\n",
              "      <td>Converse</td>\n",
              "      <td>NaN</td>\n",
              "      <td>NaN</td>\n",
              "    </tr>\n",
              "    <tr>\n",
              "      <th>2</th>\n",
              "      <td>yellow</td>\n",
              "      <td>Lacoste</td>\n",
              "      <td>NaN</td>\n",
              "      <td>NaN</td>\n",
              "    </tr>\n",
              "    <tr>\n",
              "      <th>3</th>\n",
              "      <td>orange</td>\n",
              "      <td>Hollister</td>\n",
              "      <td>NaN</td>\n",
              "      <td>NaN</td>\n",
              "    </tr>\n",
              "    <tr>\n",
              "      <th>0</th>\n",
              "      <td>NaN</td>\n",
              "      <td>NaN</td>\n",
              "      <td>Billions</td>\n",
              "      <td>Pans Labyrinth</td>\n",
              "    </tr>\n",
              "    <tr>\n",
              "      <th>1</th>\n",
              "      <td>NaN</td>\n",
              "      <td>NaN</td>\n",
              "      <td>Startup</td>\n",
              "      <td>I Walk the Line</td>\n",
              "    </tr>\n",
              "    <tr>\n",
              "      <th>2</th>\n",
              "      <td>NaN</td>\n",
              "      <td>NaN</td>\n",
              "      <td>Curb your Enthusiasm</td>\n",
              "      <td>Stardust</td>\n",
              "    </tr>\n",
              "  </tbody>\n",
              "</table>\n",
              "</div>"
            ],
            "text/plain": [
              "  Favorite Colors Favorite Hats         Favorite Show  Favorite Movies\n",
              "0            Blue          Puma                   NaN              NaN\n",
              "1           green      Converse                   NaN              NaN\n",
              "2          yellow       Lacoste                   NaN              NaN\n",
              "3          orange     Hollister                   NaN              NaN\n",
              "0             NaN           NaN              Billions   Pans Labyrinth\n",
              "1             NaN           NaN               Startup  I Walk the Line\n",
              "2             NaN           NaN  Curb your Enthusiasm         Stardust"
            ]
          },
          "metadata": {
            "tags": []
          },
          "execution_count": 14
        }
      ]
    },
    {
      "cell_type": "code",
      "metadata": {
        "id": "nqwfeF8F6hpY",
        "colab_type": "code",
        "colab": {}
      },
      "source": [
        "DATASAMPLES3 = pd.DataFrame({'Favorite Cars': ['Mustang', 'Porsche', 'Lexus', 'Acura']}, index=[0,1,2,3])"
      ],
      "execution_count": 17,
      "outputs": []
    },
    {
      "cell_type": "code",
      "metadata": {
        "id": "D5gAfF_y68PB",
        "colab_type": "code",
        "colab": {
          "base_uri": "https://localhost:8080/",
          "height": 172
        },
        "outputId": "334a5416-a2ec-4bea-de89-27e34c2ee264"
      },
      "source": [
        "DATASAMPLES3"
      ],
      "execution_count": 18,
      "outputs": [
        {
          "output_type": "execute_result",
          "data": {
            "text/html": [
              "<div>\n",
              "<style scoped>\n",
              "    .dataframe tbody tr th:only-of-type {\n",
              "        vertical-align: middle;\n",
              "    }\n",
              "\n",
              "    .dataframe tbody tr th {\n",
              "        vertical-align: top;\n",
              "    }\n",
              "\n",
              "    .dataframe thead th {\n",
              "        text-align: right;\n",
              "    }\n",
              "</style>\n",
              "<table border=\"1\" class=\"dataframe\">\n",
              "  <thead>\n",
              "    <tr style=\"text-align: right;\">\n",
              "      <th></th>\n",
              "      <th>Favorite Cars</th>\n",
              "    </tr>\n",
              "  </thead>\n",
              "  <tbody>\n",
              "    <tr>\n",
              "      <th>0</th>\n",
              "      <td>Mustang</td>\n",
              "    </tr>\n",
              "    <tr>\n",
              "      <th>1</th>\n",
              "      <td>Porsche</td>\n",
              "    </tr>\n",
              "    <tr>\n",
              "      <th>2</th>\n",
              "      <td>Lexus</td>\n",
              "    </tr>\n",
              "    <tr>\n",
              "      <th>3</th>\n",
              "      <td>Acura</td>\n",
              "    </tr>\n",
              "  </tbody>\n",
              "</table>\n",
              "</div>"
            ],
            "text/plain": [
              "  Favorite Cars\n",
              "0       Mustang\n",
              "1       Porsche\n",
              "2         Lexus\n",
              "3         Acura"
            ]
          },
          "metadata": {
            "tags": []
          },
          "execution_count": 18
        }
      ]
    },
    {
      "cell_type": "code",
      "metadata": {
        "id": "QwhPzx5O7Omp",
        "colab_type": "code",
        "colab": {}
      },
      "source": [
        "DATASAMPLEFINAL = [DATASAMPLES1, DATASAMPLES2, DATASAMPLES3]"
      ],
      "execution_count": 19,
      "outputs": []
    },
    {
      "cell_type": "code",
      "metadata": {
        "id": "PEdDepG_7hup",
        "colab_type": "code",
        "colab": {
          "base_uri": "https://localhost:8080/",
          "height": 228
        },
        "outputId": "d62b8935-d9c5-45bc-ccc1-6f0d158b396e"
      },
      "source": [
        "DATASAMPLEFINAL"
      ],
      "execution_count": 20,
      "outputs": [
        {
          "output_type": "execute_result",
          "data": {
            "text/plain": [
              "[  Favorite Colors Favorite Hats\n",
              " 0            Blue          Puma\n",
              " 1           green      Converse\n",
              " 2          yellow       Lacoste\n",
              " 3          orange     Hollister,           Favorite Show  Favorite Movies\n",
              " 0              Billions   Pans Labyrinth\n",
              " 1               Startup  I Walk the Line\n",
              " 2  Curb your Enthusiasm         Stardust,   Favorite Cars\n",
              " 0       Mustang\n",
              " 1       Porsche\n",
              " 2         Lexus\n",
              " 3         Acura]"
            ]
          },
          "metadata": {
            "tags": []
          },
          "execution_count": 20
        }
      ]
    },
    {
      "cell_type": "code",
      "metadata": {
        "id": "o3J55QNi7j0Z",
        "colab_type": "code",
        "colab": {}
      },
      "source": [
        "TOTALDATA2 = pd.concat(DATASAMPLEFINAL)"
      ],
      "execution_count": 21,
      "outputs": []
    },
    {
      "cell_type": "code",
      "metadata": {
        "id": "JyGks3Fw7xR8",
        "colab_type": "code",
        "colab": {
          "base_uri": "https://localhost:8080/",
          "height": 406
        },
        "outputId": "6ebd5c10-b5a1-45a4-cb41-78d581643d2c"
      },
      "source": [
        "TOTALDATA2"
      ],
      "execution_count": 22,
      "outputs": [
        {
          "output_type": "execute_result",
          "data": {
            "text/html": [
              "<div>\n",
              "<style scoped>\n",
              "    .dataframe tbody tr th:only-of-type {\n",
              "        vertical-align: middle;\n",
              "    }\n",
              "\n",
              "    .dataframe tbody tr th {\n",
              "        vertical-align: top;\n",
              "    }\n",
              "\n",
              "    .dataframe thead th {\n",
              "        text-align: right;\n",
              "    }\n",
              "</style>\n",
              "<table border=\"1\" class=\"dataframe\">\n",
              "  <thead>\n",
              "    <tr style=\"text-align: right;\">\n",
              "      <th></th>\n",
              "      <th>Favorite Colors</th>\n",
              "      <th>Favorite Hats</th>\n",
              "      <th>Favorite Show</th>\n",
              "      <th>Favorite Movies</th>\n",
              "      <th>Favorite Cars</th>\n",
              "    </tr>\n",
              "  </thead>\n",
              "  <tbody>\n",
              "    <tr>\n",
              "      <th>0</th>\n",
              "      <td>Blue</td>\n",
              "      <td>Puma</td>\n",
              "      <td>NaN</td>\n",
              "      <td>NaN</td>\n",
              "      <td>NaN</td>\n",
              "    </tr>\n",
              "    <tr>\n",
              "      <th>1</th>\n",
              "      <td>green</td>\n",
              "      <td>Converse</td>\n",
              "      <td>NaN</td>\n",
              "      <td>NaN</td>\n",
              "      <td>NaN</td>\n",
              "    </tr>\n",
              "    <tr>\n",
              "      <th>2</th>\n",
              "      <td>yellow</td>\n",
              "      <td>Lacoste</td>\n",
              "      <td>NaN</td>\n",
              "      <td>NaN</td>\n",
              "      <td>NaN</td>\n",
              "    </tr>\n",
              "    <tr>\n",
              "      <th>3</th>\n",
              "      <td>orange</td>\n",
              "      <td>Hollister</td>\n",
              "      <td>NaN</td>\n",
              "      <td>NaN</td>\n",
              "      <td>NaN</td>\n",
              "    </tr>\n",
              "    <tr>\n",
              "      <th>0</th>\n",
              "      <td>NaN</td>\n",
              "      <td>NaN</td>\n",
              "      <td>Billions</td>\n",
              "      <td>Pans Labyrinth</td>\n",
              "      <td>NaN</td>\n",
              "    </tr>\n",
              "    <tr>\n",
              "      <th>1</th>\n",
              "      <td>NaN</td>\n",
              "      <td>NaN</td>\n",
              "      <td>Startup</td>\n",
              "      <td>I Walk the Line</td>\n",
              "      <td>NaN</td>\n",
              "    </tr>\n",
              "    <tr>\n",
              "      <th>2</th>\n",
              "      <td>NaN</td>\n",
              "      <td>NaN</td>\n",
              "      <td>Curb your Enthusiasm</td>\n",
              "      <td>Stardust</td>\n",
              "      <td>NaN</td>\n",
              "    </tr>\n",
              "    <tr>\n",
              "      <th>0</th>\n",
              "      <td>NaN</td>\n",
              "      <td>NaN</td>\n",
              "      <td>NaN</td>\n",
              "      <td>NaN</td>\n",
              "      <td>Mustang</td>\n",
              "    </tr>\n",
              "    <tr>\n",
              "      <th>1</th>\n",
              "      <td>NaN</td>\n",
              "      <td>NaN</td>\n",
              "      <td>NaN</td>\n",
              "      <td>NaN</td>\n",
              "      <td>Porsche</td>\n",
              "    </tr>\n",
              "    <tr>\n",
              "      <th>2</th>\n",
              "      <td>NaN</td>\n",
              "      <td>NaN</td>\n",
              "      <td>NaN</td>\n",
              "      <td>NaN</td>\n",
              "      <td>Lexus</td>\n",
              "    </tr>\n",
              "    <tr>\n",
              "      <th>3</th>\n",
              "      <td>NaN</td>\n",
              "      <td>NaN</td>\n",
              "      <td>NaN</td>\n",
              "      <td>NaN</td>\n",
              "      <td>Acura</td>\n",
              "    </tr>\n",
              "  </tbody>\n",
              "</table>\n",
              "</div>"
            ],
            "text/plain": [
              "  Favorite Colors Favorite Hats  ...  Favorite Movies Favorite Cars\n",
              "0            Blue          Puma  ...              NaN           NaN\n",
              "1           green      Converse  ...              NaN           NaN\n",
              "2          yellow       Lacoste  ...              NaN           NaN\n",
              "3          orange     Hollister  ...              NaN           NaN\n",
              "0             NaN           NaN  ...   Pans Labyrinth           NaN\n",
              "1             NaN           NaN  ...  I Walk the Line           NaN\n",
              "2             NaN           NaN  ...         Stardust           NaN\n",
              "0             NaN           NaN  ...              NaN       Mustang\n",
              "1             NaN           NaN  ...              NaN       Porsche\n",
              "2             NaN           NaN  ...              NaN         Lexus\n",
              "3             NaN           NaN  ...              NaN         Acura\n",
              "\n",
              "[11 rows x 5 columns]"
            ]
          },
          "metadata": {
            "tags": []
          },
          "execution_count": 22
        }
      ]
    },
    {
      "cell_type": "code",
      "metadata": {
        "id": "xn1prBhT7zLp",
        "colab_type": "code",
        "colab": {}
      },
      "source": [
        "NEWTOTALDATA = pd.concat([DATASAMPLES1, DATASAMPLES2, DATASAMPLES3], axis=1).reindex(DATASAMPLES1.index)"
      ],
      "execution_count": 25,
      "outputs": []
    },
    {
      "cell_type": "code",
      "metadata": {
        "id": "C9rEWRt58kG9",
        "colab_type": "code",
        "colab": {
          "base_uri": "https://localhost:8080/",
          "height": 189
        },
        "outputId": "4f6a6d82-0619-476c-f348-4f13ff37ce79"
      },
      "source": [
        "NEWTOTALDATA"
      ],
      "execution_count": 26,
      "outputs": [
        {
          "output_type": "execute_result",
          "data": {
            "text/html": [
              "<div>\n",
              "<style scoped>\n",
              "    .dataframe tbody tr th:only-of-type {\n",
              "        vertical-align: middle;\n",
              "    }\n",
              "\n",
              "    .dataframe tbody tr th {\n",
              "        vertical-align: top;\n",
              "    }\n",
              "\n",
              "    .dataframe thead th {\n",
              "        text-align: right;\n",
              "    }\n",
              "</style>\n",
              "<table border=\"1\" class=\"dataframe\">\n",
              "  <thead>\n",
              "    <tr style=\"text-align: right;\">\n",
              "      <th></th>\n",
              "      <th>Favorite Colors</th>\n",
              "      <th>Favorite Hats</th>\n",
              "      <th>Favorite Show</th>\n",
              "      <th>Favorite Movies</th>\n",
              "      <th>Favorite Cars</th>\n",
              "    </tr>\n",
              "  </thead>\n",
              "  <tbody>\n",
              "    <tr>\n",
              "      <th>0</th>\n",
              "      <td>Blue</td>\n",
              "      <td>Puma</td>\n",
              "      <td>Billions</td>\n",
              "      <td>Pans Labyrinth</td>\n",
              "      <td>Mustang</td>\n",
              "    </tr>\n",
              "    <tr>\n",
              "      <th>1</th>\n",
              "      <td>green</td>\n",
              "      <td>Converse</td>\n",
              "      <td>Startup</td>\n",
              "      <td>I Walk the Line</td>\n",
              "      <td>Porsche</td>\n",
              "    </tr>\n",
              "    <tr>\n",
              "      <th>2</th>\n",
              "      <td>yellow</td>\n",
              "      <td>Lacoste</td>\n",
              "      <td>Curb your Enthusiasm</td>\n",
              "      <td>Stardust</td>\n",
              "      <td>Lexus</td>\n",
              "    </tr>\n",
              "    <tr>\n",
              "      <th>3</th>\n",
              "      <td>orange</td>\n",
              "      <td>Hollister</td>\n",
              "      <td>NaN</td>\n",
              "      <td>NaN</td>\n",
              "      <td>Acura</td>\n",
              "    </tr>\n",
              "  </tbody>\n",
              "</table>\n",
              "</div>"
            ],
            "text/plain": [
              "  Favorite Colors Favorite Hats  ...  Favorite Movies Favorite Cars\n",
              "0            Blue          Puma  ...   Pans Labyrinth       Mustang\n",
              "1           green      Converse  ...  I Walk the Line       Porsche\n",
              "2          yellow       Lacoste  ...         Stardust         Lexus\n",
              "3          orange     Hollister  ...              NaN         Acura\n",
              "\n",
              "[4 rows x 5 columns]"
            ]
          },
          "metadata": {
            "tags": []
          },
          "execution_count": 26
        }
      ]
    },
    {
      "cell_type": "code",
      "metadata": {
        "id": "efhUcBk19KBe",
        "colab_type": "code",
        "colab": {
          "base_uri": "https://localhost:8080/",
          "height": 34
        },
        "outputId": "4e162909-4377-4fb1-9dbd-3b0cd022bc46"
      },
      "source": [
        "#Now lets check for null and nan values\n",
        "NEWTOTALDATA.isnull().values.any()"
      ],
      "execution_count": 27,
      "outputs": [
        {
          "output_type": "execute_result",
          "data": {
            "text/plain": [
              "True"
            ]
          },
          "metadata": {
            "tags": []
          },
          "execution_count": 27
        }
      ]
    },
    {
      "cell_type": "code",
      "metadata": {
        "id": "CqdfpCFm9v6v",
        "colab_type": "code",
        "colab": {
          "base_uri": "https://localhost:8080/",
          "height": 34
        },
        "outputId": "3503566f-5c30-4d69-d804-21ea41f4c7ae"
      },
      "source": [
        "#Now lets check for null and nan values\n",
        "NEWTOTALDATA.isna().values.any()"
      ],
      "execution_count": 28,
      "outputs": [
        {
          "output_type": "execute_result",
          "data": {
            "text/plain": [
              "True"
            ]
          },
          "metadata": {
            "tags": []
          },
          "execution_count": 28
        }
      ]
    },
    {
      "cell_type": "code",
      "metadata": {
        "id": "pyJz6Om199kP",
        "colab_type": "code",
        "colab": {}
      },
      "source": [
        "NEWTOTALDATA = NEWTOTALDATA.replace('NaN', ' ')"
      ],
      "execution_count": 30,
      "outputs": []
    },
    {
      "cell_type": "code",
      "metadata": {
        "id": "gwbI7irC-t7Z",
        "colab_type": "code",
        "colab": {
          "base_uri": "https://localhost:8080/",
          "height": 189
        },
        "outputId": "003851f4-930a-466b-b22c-d7ba6ae901fa"
      },
      "source": [
        "NEWTOTALDATA"
      ],
      "execution_count": 31,
      "outputs": [
        {
          "output_type": "execute_result",
          "data": {
            "text/html": [
              "<div>\n",
              "<style scoped>\n",
              "    .dataframe tbody tr th:only-of-type {\n",
              "        vertical-align: middle;\n",
              "    }\n",
              "\n",
              "    .dataframe tbody tr th {\n",
              "        vertical-align: top;\n",
              "    }\n",
              "\n",
              "    .dataframe thead th {\n",
              "        text-align: right;\n",
              "    }\n",
              "</style>\n",
              "<table border=\"1\" class=\"dataframe\">\n",
              "  <thead>\n",
              "    <tr style=\"text-align: right;\">\n",
              "      <th></th>\n",
              "      <th>Favorite Colors</th>\n",
              "      <th>Favorite Hats</th>\n",
              "      <th>Favorite Show</th>\n",
              "      <th>Favorite Movies</th>\n",
              "      <th>Favorite Cars</th>\n",
              "    </tr>\n",
              "  </thead>\n",
              "  <tbody>\n",
              "    <tr>\n",
              "      <th>0</th>\n",
              "      <td>Blue</td>\n",
              "      <td>Puma</td>\n",
              "      <td>Billions</td>\n",
              "      <td>Pans Labyrinth</td>\n",
              "      <td>Mustang</td>\n",
              "    </tr>\n",
              "    <tr>\n",
              "      <th>1</th>\n",
              "      <td>green</td>\n",
              "      <td>Converse</td>\n",
              "      <td>Startup</td>\n",
              "      <td>I Walk the Line</td>\n",
              "      <td>Porsche</td>\n",
              "    </tr>\n",
              "    <tr>\n",
              "      <th>2</th>\n",
              "      <td>yellow</td>\n",
              "      <td>Lacoste</td>\n",
              "      <td>Curb your Enthusiasm</td>\n",
              "      <td>Stardust</td>\n",
              "      <td>Lexus</td>\n",
              "    </tr>\n",
              "    <tr>\n",
              "      <th>3</th>\n",
              "      <td>orange</td>\n",
              "      <td>Hollister</td>\n",
              "      <td>NaN</td>\n",
              "      <td>NaN</td>\n",
              "      <td>Acura</td>\n",
              "    </tr>\n",
              "  </tbody>\n",
              "</table>\n",
              "</div>"
            ],
            "text/plain": [
              "  Favorite Colors Favorite Hats  ...  Favorite Movies Favorite Cars\n",
              "0            Blue          Puma  ...   Pans Labyrinth       Mustang\n",
              "1           green      Converse  ...  I Walk the Line       Porsche\n",
              "2          yellow       Lacoste  ...         Stardust         Lexus\n",
              "3          orange     Hollister  ...              NaN         Acura\n",
              "\n",
              "[4 rows x 5 columns]"
            ]
          },
          "metadata": {
            "tags": []
          },
          "execution_count": 31
        }
      ]
    },
    {
      "cell_type": "code",
      "metadata": {
        "id": "srA27Jmg-1zd",
        "colab_type": "code",
        "colab": {
          "base_uri": "https://localhost:8080/",
          "height": 172
        },
        "outputId": "c31ba8bd-6513-40e4-c303-e8b1c187a2cf"
      },
      "source": [
        "NEWTOTALDATA.fillna(0)"
      ],
      "execution_count": 32,
      "outputs": [
        {
          "output_type": "execute_result",
          "data": {
            "text/html": [
              "<div>\n",
              "<style scoped>\n",
              "    .dataframe tbody tr th:only-of-type {\n",
              "        vertical-align: middle;\n",
              "    }\n",
              "\n",
              "    .dataframe tbody tr th {\n",
              "        vertical-align: top;\n",
              "    }\n",
              "\n",
              "    .dataframe thead th {\n",
              "        text-align: right;\n",
              "    }\n",
              "</style>\n",
              "<table border=\"1\" class=\"dataframe\">\n",
              "  <thead>\n",
              "    <tr style=\"text-align: right;\">\n",
              "      <th></th>\n",
              "      <th>Favorite Colors</th>\n",
              "      <th>Favorite Hats</th>\n",
              "      <th>Favorite Show</th>\n",
              "      <th>Favorite Movies</th>\n",
              "      <th>Favorite Cars</th>\n",
              "    </tr>\n",
              "  </thead>\n",
              "  <tbody>\n",
              "    <tr>\n",
              "      <th>0</th>\n",
              "      <td>Blue</td>\n",
              "      <td>Puma</td>\n",
              "      <td>Billions</td>\n",
              "      <td>Pans Labyrinth</td>\n",
              "      <td>Mustang</td>\n",
              "    </tr>\n",
              "    <tr>\n",
              "      <th>1</th>\n",
              "      <td>green</td>\n",
              "      <td>Converse</td>\n",
              "      <td>Startup</td>\n",
              "      <td>I Walk the Line</td>\n",
              "      <td>Porsche</td>\n",
              "    </tr>\n",
              "    <tr>\n",
              "      <th>2</th>\n",
              "      <td>yellow</td>\n",
              "      <td>Lacoste</td>\n",
              "      <td>Curb your Enthusiasm</td>\n",
              "      <td>Stardust</td>\n",
              "      <td>Lexus</td>\n",
              "    </tr>\n",
              "    <tr>\n",
              "      <th>3</th>\n",
              "      <td>orange</td>\n",
              "      <td>Hollister</td>\n",
              "      <td>0</td>\n",
              "      <td>0</td>\n",
              "      <td>Acura</td>\n",
              "    </tr>\n",
              "  </tbody>\n",
              "</table>\n",
              "</div>"
            ],
            "text/plain": [
              "  Favorite Colors Favorite Hats  ...  Favorite Movies Favorite Cars\n",
              "0            Blue          Puma  ...   Pans Labyrinth       Mustang\n",
              "1           green      Converse  ...  I Walk the Line       Porsche\n",
              "2          yellow       Lacoste  ...         Stardust         Lexus\n",
              "3          orange     Hollister  ...                0         Acura\n",
              "\n",
              "[4 rows x 5 columns]"
            ]
          },
          "metadata": {
            "tags": []
          },
          "execution_count": 32
        }
      ]
    },
    {
      "cell_type": "code",
      "metadata": {
        "id": "fCzQhVYq_RG6",
        "colab_type": "code",
        "colab": {
          "base_uri": "https://localhost:8080/",
          "height": 172
        },
        "outputId": "5840f91d-cec9-4969-ba2a-0516b92de3b3"
      },
      "source": [
        "NEWTOTALDATA.fillna(\"none\") # the quickest way to replace Null/NaN values"
      ],
      "execution_count": 34,
      "outputs": [
        {
          "output_type": "execute_result",
          "data": {
            "text/html": [
              "<div>\n",
              "<style scoped>\n",
              "    .dataframe tbody tr th:only-of-type {\n",
              "        vertical-align: middle;\n",
              "    }\n",
              "\n",
              "    .dataframe tbody tr th {\n",
              "        vertical-align: top;\n",
              "    }\n",
              "\n",
              "    .dataframe thead th {\n",
              "        text-align: right;\n",
              "    }\n",
              "</style>\n",
              "<table border=\"1\" class=\"dataframe\">\n",
              "  <thead>\n",
              "    <tr style=\"text-align: right;\">\n",
              "      <th></th>\n",
              "      <th>Favorite Colors</th>\n",
              "      <th>Favorite Hats</th>\n",
              "      <th>Favorite Show</th>\n",
              "      <th>Favorite Movies</th>\n",
              "      <th>Favorite Cars</th>\n",
              "    </tr>\n",
              "  </thead>\n",
              "  <tbody>\n",
              "    <tr>\n",
              "      <th>0</th>\n",
              "      <td>Blue</td>\n",
              "      <td>Puma</td>\n",
              "      <td>Billions</td>\n",
              "      <td>Pans Labyrinth</td>\n",
              "      <td>Mustang</td>\n",
              "    </tr>\n",
              "    <tr>\n",
              "      <th>1</th>\n",
              "      <td>green</td>\n",
              "      <td>Converse</td>\n",
              "      <td>Startup</td>\n",
              "      <td>I Walk the Line</td>\n",
              "      <td>Porsche</td>\n",
              "    </tr>\n",
              "    <tr>\n",
              "      <th>2</th>\n",
              "      <td>yellow</td>\n",
              "      <td>Lacoste</td>\n",
              "      <td>Curb your Enthusiasm</td>\n",
              "      <td>Stardust</td>\n",
              "      <td>Lexus</td>\n",
              "    </tr>\n",
              "    <tr>\n",
              "      <th>3</th>\n",
              "      <td>orange</td>\n",
              "      <td>Hollister</td>\n",
              "      <td>none</td>\n",
              "      <td>none</td>\n",
              "      <td>Acura</td>\n",
              "    </tr>\n",
              "  </tbody>\n",
              "</table>\n",
              "</div>"
            ],
            "text/plain": [
              "  Favorite Colors Favorite Hats  ...  Favorite Movies Favorite Cars\n",
              "0            Blue          Puma  ...   Pans Labyrinth       Mustang\n",
              "1           green      Converse  ...  I Walk the Line       Porsche\n",
              "2          yellow       Lacoste  ...         Stardust         Lexus\n",
              "3          orange     Hollister  ...             none         Acura\n",
              "\n",
              "[4 rows x 5 columns]"
            ]
          },
          "metadata": {
            "tags": []
          },
          "execution_count": 34
        }
      ]
    }
  ]
}